{
 "cells": [
  {
   "cell_type": "code",
   "execution_count": 1,
   "metadata": {},
   "outputs": [],
   "source": [
    "import os\n",
    "from dotenv import load_dotenv\n",
    "from openai import OpenAI\n",
    "from agents import victoria, executioner"
   ]
  },
  {
   "cell_type": "code",
   "execution_count": 2,
   "metadata": {},
   "outputs": [],
   "source": [
    "load_dotenv()\n",
    "OPENAI_API_KEY = os.getenv('OPENAI_API_KEY')\n",
    "client = OpenAI(api_key=OPENAI_API_KEY)"
   ]
  },
  {
   "cell_type": "code",
   "execution_count": 3,
   "metadata": {},
   "outputs": [],
   "source": [
    "prompt = \"\"\"\n",
    "I am trying to build a market risk library. I need help\n",
    "\"\"\""
   ]
  },
  {
   "cell_type": "code",
   "execution_count": 19,
   "metadata": {},
   "outputs": [
    {
     "name": "stdout",
     "output_type": "stream",
     "text": [
      "That sounds like an interesting project! To help you effectively, could you provide a bit more detail on the specific features or functionalities you want to include in your market risk library? Here are a few clarifying questions to guide you:\n",
      "\n",
      "1. **Key Features**: What specific types of market risk calculations or models are you looking to implement? (e.g., Value at Risk (VaR), Stress Testing, Risk Metrics)\n",
      "\n",
      "2. **Data Sources**: Will you be using any particular data sources or libraries? (e.g., pandas for data manipulation, NumPy for numerical operations)\n",
      "\n",
      "3. **Input and Output**: What kind of input will your functions take, and what output do you expect? \n",
      "\n",
      "4. **Level of Complexity**: Are you looking for a basic implementation, or do you need more sophisticated modeling capabilities? \n",
      "\n",
      "5. **Help with Existing Code**: Do you have any existing code that you would like me to help with or improve upon?\n",
      "\n",
      "Feel free to provide as much detail as you're comfortable with!\n"
     ]
    }
   ],
   "source": [
    "response = victoria.agent_victoria(client, prompt)\n",
    "print(response)"
   ]
  },
  {
   "cell_type": "code",
   "execution_count": 20,
   "metadata": {},
   "outputs": [],
   "source": [
    "prompt = \"\"\"\n",
    "Key Features: I'd like to have functions for Value at Risk, Expected Shortfall and Risk Metrics\n",
    "DataSources: I'll be principally using pandas and numpy\n",
    "Input and Output: The regular, nothing exotique. VaR uses Returns for non-parametric\n",
    "Level of complexity: I am looking for sophisticated models\n",
    "Help with existing code: I am constructing one, so perhaps later. \n",
    "\"\"\""
   ]
  },
  {
   "cell_type": "code",
   "execution_count": 22,
   "metadata": {},
   "outputs": [
    {
     "name": "stdout",
     "output_type": "stream",
     "text": [
      "That sounds like an interesting project! To help you effectively, could you provide a bit more detail on the specific features or functionalities you want to include in your market risk library? Here are a few clarifying questions to guide you:\n",
      "\n",
      "1. **Key Features**: What specific types of market risk calculations or models are you looking to implement? (e.g., Value at Risk (VaR), Stress Testing, Risk Metrics)\n",
      "\n",
      "2. **Data Sources**: Will you be using any particular data sources or libraries? (e.g., pandas for data manipulation, NumPy for numerical operations)\n",
      "\n",
      "3. **Input and Output**: What kind of input will your functions take, and what output do you expect? \n",
      "\n",
      "4. **Level of Complexity**: Are you looking for a basic implementation, or do you need more sophisticated modeling capabilities? \n",
      "\n",
      "5. **Help with Existing Code**: Do you have any existing code that you would like me to help with or improve upon?\n",
      "\n",
      "Feel free to provide as much detail as you're comfortable with!\n",
      "Key Features: I'd like to have functions for Value at Risk, Expected Shortfall and Risk Metrics\n",
      "DataSources: I'll be principally using pandas and numpy\n",
      "Input and Output: The regular, nothing exotique. VaR uses Returns for non-parametric\n",
      "Level of complexity: I am looking for sophisticated models\n",
      "Help with existing code: I am constructing one, so perhaps later. \n",
      "\n"
     ]
    }
   ],
   "source": [
    "print( response + prompt )"
   ]
  },
  {
   "cell_type": "code",
   "execution_count": 23,
   "metadata": {},
   "outputs": [],
   "source": [
    "response = victoria.agent_victoria(client, response + prompt)"
   ]
  },
  {
   "cell_type": "code",
   "execution_count": 24,
   "metadata": {},
   "outputs": [
    {
     "name": "stdout",
     "output_type": "stream",
     "text": [
      "Thank you for the detailed response! Based on your specifications, we can create a market risk library in Python that includes functions for:\n",
      "\n",
      "1. **Value at Risk (VaR)**: This will compute the potential loss in value of an asset or portfolio over a defined period for a given confidence interval.\n",
      "\n",
      "2. **Expected Shortfall (ES)**: This will measure the average loss that occurs beyond the VaR threshold.\n",
      "\n",
      "3. **Risk Metrics**: This can include additional measures like standard deviation, beta, and correlation, which help to assess the risk profile of an asset or portfolio.\n",
      "\n",
      "### Next Steps\n",
      "\n",
      "Let's start by creating a basic structure for your market risk library with the following functions:\n",
      "\n",
      "1. **`calculate_var`**: This function will compute VaR for a given set of returns and a confidence level.\n",
      "   \n",
      "2. **`calculate_expected_shortfall`**: This function will compute the Expected Shortfall based on the VaR.\n",
      "\n",
      "3. **`risk_metrics`**: This will compute various risk metrics, such as volatility and correlation.\n",
      "\n",
      "Here’s a basic implementation outline:\n",
      "\n",
      "### Sample Code for Market Risk Library\n",
      "\n",
      "```python\n",
      "import numpy as np\n",
      "import pandas as pd\n",
      "\n",
      "class MarketRiskLibrary:\n",
      "    def __init__(self, returns):\n",
      "        self.returns = returns\n",
      "\n",
      "    def calculate_var(self, confidence_level=0.95):\n",
      "        \"\"\"Calculates Value at Risk (VaR) at a specified confidence level.\"\"\"\n",
      "        if not isinstance(self.returns, pd.Series):\n",
      "            raise TypeError(\"Returns should be a pandas Series.\")\n",
      "        \n",
      "        # Calculate the VaR\n",
      "        var_value = self.returns.quantile(1 - confidence_level)\n",
      "        return var_value\n",
      "\n",
      "    def calculate_expected_shortfall(self, confidence_level=0.95):\n",
      "        \"\"\"Calculates Expected Shortfall (ES) at a specified confidence level.\"\"\"\n",
      "        var_value = self.calculate_var(confidence_level)\n",
      "        # Calculate ES as the average of losses exceeding VaR\n",
      "        expected_shortfall = self.returns[self.returns <= var_value].mean()\n",
      "        return expected_shortfall\n",
      "\n",
      "    def risk_metrics(self):\n",
      "        \"\"\"Calculates various risk metrics.\"\"\"\n",
      "        volatility = self.returns.std()\n",
      "        mean_return = self.returns.mean()\n",
      "        metrics = {\n",
      "            'Mean Return': mean_return,\n",
      "            'Volatility': volatility,\n",
      "        }\n",
      "        return metrics\n",
      "```\n",
      "\n",
      "### Explanation\n",
      "- The `MarketRiskLibrary` class is initialized with a pandas Series of returns.\n",
      "- The `calculate_var` method computes the VaR by calculating the specified quantile of the returns.\n",
      "- The `calculate_expected_shortfall` method calculates the average of the losses that exceed the VaR threshold.\n",
      "- The `risk_metrics` method returns the mean return and volatility of the returns.\n",
      "\n",
      "### Example Usage\n",
      "\n",
      "Here's how you could use this library:\n",
      "\n",
      "```python\n",
      "# Example: Creating a MarketRiskLibrary instance and using its methods\n",
      "\n",
      "# Generate some random returns\n",
      "np.random.seed(42)\n",
      "returns_data = np.random.normal(0, 0.01, 1000)  # Simulating daily returns\n",
      "returns_series = pd.Series(returns_data)\n",
      "\n",
      "# Create an instance of the MarketRiskLibrary\n",
      "risk_library = MarketRiskLibrary(returns_series)\n",
      "\n",
      "# Calculate VaR and Expected Shortfall\n",
      "var_value = risk_library.calculate_var(confidence_level=0.95)\n",
      "expected_shortfall = risk_library.calculate_expected_shortfall(confidence_level=0.95)\n",
      "metrics = risk_library.risk_metrics()\n",
      "\n",
      "print(f\"Value at Risk (VaR): {var_value}\")\n",
      "print(f\"Expected Shortfall (ES): {expected_shortfall}\")\n",
      "print(f\"Risk Metrics: {metrics}\")\n",
      "```\n",
      "\n",
      "### How to Run the Code\n",
      "1. First, ensure you have `pandas` and `numpy` installed:\n",
      "   ```\n",
      "   pip install pandas numpy\n",
      "   ```\n",
      "\n",
      "2. Then run the provided code in a Python environment (like Jupyter Notebook or any IDE).\n",
      "\n",
      "### Next Steps\n",
      "- Feel free to adjust the code or let me know if there are specific features or enhancements you want to incorporate. \n",
      "- If you have any further questions or need assistance with additional functionalities, just ask!\n"
     ]
    }
   ],
   "source": [
    "print(response)"
   ]
  },
  {
   "cell_type": "code",
   "execution_count": 25,
   "metadata": {},
   "outputs": [],
   "source": [
    "prompt = \"\"\"\n",
    "This is great. What i'd like you to do for me is to provide just the python code wihtout any formatting. If you think the code should go into a file, write the python code to create the file and then write the contents into it. \n",
    "I am basically expecting something that i can run using exec to finish off my work. \n",
    "\"\"\""
   ]
  },
  {
   "cell_type": "code",
   "execution_count": 26,
   "metadata": {},
   "outputs": [],
   "source": [
    "response = victoria.agent_victoria(client, response + prompt)"
   ]
  },
  {
   "cell_type": "code",
   "execution_count": 27,
   "metadata": {},
   "outputs": [
    {
     "name": "stdout",
     "output_type": "stream",
     "text": [
      "Sure! Below is the Python code that creates a file and writes the implementation of the `MarketRiskLibrary`. This will enable you to run it directly using `exec`.\n",
      "\n",
      "```python\n",
      "code = \"\"\"\n",
      "import numpy as np\n",
      "import pandas as pd\n",
      "\n",
      "class MarketRiskLibrary:\n",
      "    def __init__(self, returns):\n",
      "        self.returns = returns\n",
      "\n",
      "    def calculate_var(self, confidence_level=0.95):\n",
      "        \\\"\\\"\\\"Calculates Value at Risk (VaR) at a specified confidence level.\\\"\\\"\\\"\n",
      "        if not isinstance(self.returns, pd.Series):\n",
      "            raise TypeError(\"Returns should be a pandas Series.\")\n",
      "        \n",
      "        var_value = self.returns.quantile(1 - confidence_level)\n",
      "        return var_value\n",
      "\n",
      "    def calculate_expected_shortfall(self, confidence_level=0.95):\n",
      "        \\\"\\\"\\\"Calculates Expected Shortfall (ES) at a specified confidence level.\\\"\\\"\\\"\n",
      "        var_value = self.calculate_var(confidence_level)\n",
      "        expected_shortfall = self.returns[self.returns <= var_value].mean()\n",
      "        return expected_shortfall\n",
      "\n",
      "    def risk_metrics(self):\n",
      "        \\\"\\\"\\\"Calculates various risk metrics.\\\"\\\"\\\"\n",
      "        volatility = self.returns.std()\n",
      "        mean_return = self.returns.mean()\n",
      "        metrics = {\n",
      "            'Mean Return': mean_return,\n",
      "            'Volatility': volatility,\n",
      "        }\n",
      "        return metrics\n",
      "\n",
      "# Example usage\n",
      "np.random.seed(42)\n",
      "returns_data = np.random.normal(0, 0.01, 1000)\n",
      "returns_series = pd.Series(returns_data)\n",
      "\n",
      "risk_library = MarketRiskLibrary(returns_series)\n",
      "var_value = risk_library.calculate_var(confidence_level=0.95)\n",
      "expected_shortfall = risk_library.calculate_expected_shortfall(confidence_level=0.95)\n",
      "metrics = risk_library.risk_metrics()\n",
      "\n",
      "print(f\"Value at Risk (VaR): {var_value}\")\n",
      "print(f\"Expected Shortfall (ES): {expected_shortfall}\")\n",
      "print(f\"Risk Metrics: {metrics}\")\n",
      "\"\"\"\n",
      "\n",
      "# Write the code to a Python file\n",
      "with open(\"market_risk_library.py\", \"w\") as file:\n",
      "    file.write(code)\n",
      "```\n",
      "\n",
      "You can run the code block above, and it will create a file named `market_risk_library.py` containing the `MarketRiskLibrary` implementation along with an example usage.\n",
      "\n",
      "### Running the File\n",
      "Once the file is created, you can run it directly in your Python environment or use `exec` like this:\n",
      "\n",
      "```python\n",
      "exec(open(\"market_risk_library.py\").read())\n",
      "```\n",
      "\n",
      "Let me know if you need any further modifications or if there's anything else I can assist you with!\n"
     ]
    }
   ],
   "source": [
    "prompt = \"\"\"\n",
    "\n",
    "\"\"\""
   ]
  },
  {
   "cell_type": "code",
   "execution_count": 18,
   "metadata": {},
   "outputs": [
    {
     "name": "stdout",
     "output_type": "stream",
     "text": [
      "Data has been written to victoria_says.txt\n"
     ]
    }
   ],
   "source": [
    "a\n",
    "file_name = 'victoria_says.txt'\n",
    "\n",
    "# Sample data to write into the file\n",
    "data_to_write = response\n",
    "\n",
    "# Open the file in write mode\n",
    "with open(file_name, 'a') as file:\n",
    "    file.write(data_to_write)\n",
    "    # # Iterate over the data and write each line to the file\n",
    "    # for line in data_to_write:\n",
    "    #     file.write(line + '\\n')  # Adding a newline character for each entry\n",
    "\n",
    "print(f\"Data has been written to {file_name}\")"
   ]
  },
  {
   "cell_type": "code",
   "execution_count": null,
   "metadata": {},
   "outputs": [],
   "source": []
  },
  {
   "cell_type": "code",
   "execution_count": null,
   "metadata": {},
   "outputs": [],
   "source": []
  }
 ],
 "metadata": {
  "kernelspec": {
   "display_name": "fx",
   "language": "python",
   "name": "python3"
  },
  "language_info": {
   "codemirror_mode": {
    "name": "ipython",
    "version": 3
   },
   "file_extension": ".py",
   "mimetype": "text/x-python",
   "name": "python",
   "nbconvert_exporter": "python",
   "pygments_lexer": "ipython3",
   "version": "3.11.11"
  }
 },
 "nbformat": 4,
 "nbformat_minor": 2
}
