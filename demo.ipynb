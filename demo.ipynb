{
 "cells": [
  {
   "cell_type": "code",
   "execution_count": 20,
   "metadata": {},
   "outputs": [],
   "source": [
    "import os\n",
    "from dotenv import load_dotenv\n",
    "from openai import OpenAI\n",
    "from agents import agent"
   ]
  },
  {
   "cell_type": "code",
   "execution_count": 21,
   "metadata": {},
   "outputs": [],
   "source": [
    "load_dotenv()\n",
    "OPENAI_API_KEY = os.getenv('OPENAI_API_KEY')\n",
    "client = OpenAI(api_key=OPENAI_API_KEY)"
   ]
  },
  {
   "cell_type": "code",
   "execution_count": 26,
   "metadata": {},
   "outputs": [],
   "source": [
    "prompt = \"\"\"\n",
    "Delete the folder named 'Market Risk' in my current workspace\n",
    "\"\"\""
   ]
  },
  {
   "cell_type": "code",
   "execution_count": 27,
   "metadata": {},
   "outputs": [
    {
     "name": "stdout",
     "output_type": "stream",
     "text": [
      "To delete a folder named \"Market Risk\" in your current workspace using Python, you can use the built-in `os` module. Below is a simple example of how you can do this:\n",
      "\n",
      "```python\n",
      "import os\n",
      "import shutil\n",
      "\n",
      "# Specify the folder name\n",
      "folder_name = 'Market Risk'\n",
      "\n",
      "# Get the current working directory\n",
      "current_directory = os.getcwd()\n",
      "\n",
      "# Create the full path to the folder\n",
      "folder_path = os.path.join(current_directory, folder_name)\n",
      "\n",
      "# Check if the folder exists\n",
      "if os.path.exists(folder_path):\n",
      "    # Remove the folder and all its contents\n",
      "    shutil.rmtree(folder_path)\n",
      "    print(f\"Successfully deleted the folder: {folder_path}\")\n",
      "else:\n",
      "    print(f\"The folder '{folder_path}' does not exist.\")\n",
      "```\n",
      "\n",
      "### Explanation:\n",
      "1. **Imports**: The `os` and `shutil` modules are imported. `os` helps in interacting with the operating system, and `shutil` provides functions to perform high-level file operations.\n",
      "2. **Folder Name**: The target folder name (\"Market Risk\") is specified.\n",
      "3. **Current Directory**: The current working directory is obtained using `os.getcwd()`.\n",
      "4. **Folder Path**: The complete path to the folder is created using `os.path.join()`.\n",
      "5. **Existence Check**: Before attempting to delete the folder, the code checks if it exists using `os.path.exists()`.\n",
      "6. **Folder Deletion**: If the folder exists, `shutil.rmtree()` is used to delete the folder and all its contents.\n",
      "7. **Success/Failure Message**: A success message is printed if the folder is deleted, or a message is shown if it does not exist.\n",
      "\n",
      "### How to Run:\n",
      "1. Copy the code into a Python script (e.g., `delete_folder.py`).\n",
      "2. Run the script in the same workspace where the \"Market Risk\" folder exists.\n",
      "\n",
      "### Note:\n",
      "- Be cautious when using `shutil.rmtree()` as it permanently deletes the folder and its contents. There is no way to recover deleted files.\n"
     ]
    }
   ],
   "source": [
    "response = agent.brainwave(client, prompt)\n",
    "print(response)"
   ]
  },
  {
   "cell_type": "code",
   "execution_count": 28,
   "metadata": {},
   "outputs": [
    {
     "name": "stdout",
     "output_type": "stream",
     "text": [
      "import os\n",
      "import shutil\n",
      "\n",
      "folder_name = 'Market Risk'\n",
      "current_directory = os.getcwd()\n",
      "folder_path = os.path.join(current_directory, folder_name)\n",
      "\n",
      "if os.path.exists(folder_path):\n",
      "    shutil.rmtree(folder_path)\n",
      "    print(f\"Successfully deleted the folder: {folder_path}\")\n",
      "else:\n",
      "    print(f\"The folder '{folder_path}' does not exist.\")\n"
     ]
    }
   ],
   "source": [
    "response = agent.byte(client, response) ;\n",
    "print(response)"
   ]
  },
  {
   "cell_type": "code",
   "execution_count": 29,
   "metadata": {},
   "outputs": [
    {
     "name": "stdout",
     "output_type": "stream",
     "text": [
      "Successfully deleted the folder: /mnt/c/_perso/agents/Market Risk\n"
     ]
    }
   ],
   "source": [
    "agent.catalyst(response);"
   ]
  }
 ],
 "metadata": {
  "kernelspec": {
   "display_name": "ai-agents",
   "language": "python",
   "name": "python3"
  },
  "language_info": {
   "codemirror_mode": {
    "name": "ipython",
    "version": 3
   },
   "file_extension": ".py",
   "mimetype": "text/x-python",
   "name": "python",
   "nbconvert_exporter": "python",
   "pygments_lexer": "ipython3",
   "version": "3.11.11"
  }
 },
 "nbformat": 4,
 "nbformat_minor": 2
}
